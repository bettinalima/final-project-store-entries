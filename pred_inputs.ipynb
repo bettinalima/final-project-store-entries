{
 "cells": [
  {
   "cell_type": "code",
   "execution_count": 1,
   "metadata": {},
   "outputs": [],
   "source": [
    "#So what we gonna do here are some basic functions to clean inputs that we will ask our user to give so we can make predictions in the future"
   ]
  },
  {
   "cell_type": "code",
   "execution_count": 2,
   "metadata": {},
   "outputs": [],
   "source": [
    "import datetime"
   ]
  },
  {
   "cell_type": "code",
   "execution_count": 3,
   "metadata": {},
   "outputs": [],
   "source": [
    "def week_day_to_num(week_day):\n",
    "    if week_day == \"Sunday\":\n",
    "        return 1\n",
    "    if week_day == \"Monday\":\n",
    "        return 2\n",
    "    if week_day == \"Tuesday\":\n",
    "        return 3\n",
    "    if week_day == \"Wednesday\":\n",
    "        return 4\n",
    "    if week_day == \"Thursday\":\n",
    "        return 5\n",
    "    if week_day == \"Friday\":\n",
    "        return 6\n",
    "    if week_day == \"Saturday\":\n",
    "        return 7"
   ]
  },
  {
   "cell_type": "code",
   "execution_count": 4,
   "metadata": {},
   "outputs": [],
   "source": [
    "def get_date(date_input):\n",
    "    date = date_input.split(\"-\")\n",
    "    day = date[0]\n",
    "    month = date[1]\n",
    "    year = date[2]\n",
    "\n",
    "    d = datetime.datetime(year,month,day).weekday() #returns a number from 0-6\n",
    "    day_list = [\"Monday\", \"Tuesday\", \"Wednesday\", \"Thursday\", \"Friday\", \"Saturday\", \"Sunday\"]\n",
    "\n",
    "    day_of_the_week = day_list[d]\n",
    "    day_of_the_week_num = week_day_to_num(day_of_the_week) #So the value matches the one we passed to our algorithm\n",
    "    return day, month, year, day_of_the_week_num\n",
    "    "
   ]
  },
  {
   "cell_type": "code",
   "execution_count": 5,
   "metadata": {},
   "outputs": [],
   "source": [
    "def get_season(season_name):\n",
    "    season = season_name.lower()\n",
    "\n",
    "    if season == \"autumn\":\n",
    "        season_autumn = 1\n",
    "        season_spring = 0\n",
    "        season_summer = 0\n",
    "        season_winter = 0\n",
    "    if season == \"spring\":\n",
    "        season_autumn = 0\n",
    "        season_spring = 1\n",
    "        season_summer = 0\n",
    "        season_winter = 0\n",
    "    if season == \"summer\":\n",
    "        season_autumn = 0\n",
    "        season_spring = 0\n",
    "        season_summer = 1\n",
    "        season_winter = 0\n",
    "    if season == \"winter\":\n",
    "        season_autumn = 0\n",
    "        season_spring = 0\n",
    "        season_summer = 0\n",
    "        season_winter = 1\n",
    "    \n",
    "    return season_autumn,season_spring,season_summer,season_winter"
   ]
  },
  {
   "cell_type": "code",
   "execution_count": 6,
   "metadata": {},
   "outputs": [],
   "source": [
    "def get_covid(year):\n",
    "    if year >= 2020: \n",
    "        covid = 1\n",
    "    else:\n",
    "        covid = 2\n",
    "    \n",
    "    return covid"
   ]
  },
  {
   "cell_type": "code",
   "execution_count": 7,
   "metadata": {},
   "outputs": [],
   "source": [
    "def get_event(y_or_n):\n",
    "    y_or_n = y_or_n.lower()\n",
    "    if y_or_n == \"yes\":\n",
    "        event = 1\n",
    "    else:\n",
    "        event = 0"
   ]
  }
 ],
 "metadata": {
  "kernelspec": {
   "display_name": "base",
   "language": "python",
   "name": "python3"
  },
  "language_info": {
   "codemirror_mode": {
    "name": "ipython",
    "version": 3
   },
   "file_extension": ".py",
   "mimetype": "text/x-python",
   "name": "python",
   "nbconvert_exporter": "python",
   "pygments_lexer": "ipython3",
   "version": "3.9.13"
  },
  "orig_nbformat": 4
 },
 "nbformat": 4,
 "nbformat_minor": 2
}
