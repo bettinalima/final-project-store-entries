{
 "cells": [
  {
   "cell_type": "code",
   "execution_count": 620,
   "metadata": {},
   "outputs": [],
   "source": [
    "#Okie so I decided to make a new notebook to make this cleaner"
   ]
  },
  {
   "cell_type": "code",
   "execution_count": 621,
   "metadata": {},
   "outputs": [],
   "source": [
    "import numpy as np\n",
    "import pandas as pd\n",
    "\n",
    "import matplotlib.pyplot as plt\n",
    "import seaborn as sn\n",
    "\n",
    "from sklearn.model_selection import train_test_split\n",
    "from sklearn.metrics import mean_squared_error\n",
    "\n",
    "from sklearn.ensemble import RandomForestRegressor\n",
    "\n",
    "from sklearn.preprocessing import StandardScaler\n",
    "\n",
    "from sklearn.model_selection import GridSearchCV\n",
    "\n",
    "import joblib"
   ]
  },
  {
   "cell_type": "code",
   "execution_count": 622,
   "metadata": {},
   "outputs": [],
   "source": [
    "#Lets try to make a new analysis now that we have the day of the week"
   ]
  },
  {
   "cell_type": "code",
   "execution_count": 623,
   "metadata": {},
   "outputs": [
    {
     "data": {
      "text/html": [
       "<div>\n",
       "<style scoped>\n",
       "    .dataframe tbody tr th:only-of-type {\n",
       "        vertical-align: middle;\n",
       "    }\n",
       "\n",
       "    .dataframe tbody tr th {\n",
       "        vertical-align: top;\n",
       "    }\n",
       "\n",
       "    .dataframe thead th {\n",
       "        text-align: right;\n",
       "    }\n",
       "</style>\n",
       "<table border=\"1\" class=\"dataframe\">\n",
       "  <thead>\n",
       "    <tr style=\"text-align: right;\">\n",
       "      <th></th>\n",
       "      <th>Visitantes</th>\n",
       "      <th>Dia</th>\n",
       "      <th>Mes</th>\n",
       "      <th>Ano</th>\n",
       "      <th>Day of the week</th>\n",
       "      <th>COVID</th>\n",
       "      <th>Season</th>\n",
       "      <th>Event</th>\n",
       "      <th>Total Turistas</th>\n",
       "    </tr>\n",
       "  </thead>\n",
       "  <tbody>\n",
       "    <tr>\n",
       "      <th>0</th>\n",
       "      <td>145</td>\n",
       "      <td>14</td>\n",
       "      <td>12</td>\n",
       "      <td>2018</td>\n",
       "      <td>Friday</td>\n",
       "      <td>0</td>\n",
       "      <td>Autumn</td>\n",
       "      <td>1</td>\n",
       "      <td>15657.580645</td>\n",
       "    </tr>\n",
       "    <tr>\n",
       "      <th>1</th>\n",
       "      <td>144</td>\n",
       "      <td>15</td>\n",
       "      <td>12</td>\n",
       "      <td>2018</td>\n",
       "      <td>Saturday</td>\n",
       "      <td>0</td>\n",
       "      <td>Autumn</td>\n",
       "      <td>1</td>\n",
       "      <td>15657.580645</td>\n",
       "    </tr>\n",
       "    <tr>\n",
       "      <th>2</th>\n",
       "      <td>131</td>\n",
       "      <td>17</td>\n",
       "      <td>12</td>\n",
       "      <td>2018</td>\n",
       "      <td>Monday</td>\n",
       "      <td>0</td>\n",
       "      <td>Autumn</td>\n",
       "      <td>1</td>\n",
       "      <td>15657.580645</td>\n",
       "    </tr>\n",
       "    <tr>\n",
       "      <th>3</th>\n",
       "      <td>355</td>\n",
       "      <td>18</td>\n",
       "      <td>12</td>\n",
       "      <td>2018</td>\n",
       "      <td>Tuesday</td>\n",
       "      <td>0</td>\n",
       "      <td>Autumn</td>\n",
       "      <td>1</td>\n",
       "      <td>15657.580645</td>\n",
       "    </tr>\n",
       "    <tr>\n",
       "      <th>4</th>\n",
       "      <td>1267</td>\n",
       "      <td>20</td>\n",
       "      <td>12</td>\n",
       "      <td>2018</td>\n",
       "      <td>Thursday</td>\n",
       "      <td>0</td>\n",
       "      <td>Autumn</td>\n",
       "      <td>1</td>\n",
       "      <td>15657.580645</td>\n",
       "    </tr>\n",
       "  </tbody>\n",
       "</table>\n",
       "</div>"
      ],
      "text/plain": [
       "   Visitantes  Dia  Mes   Ano Day of the week  COVID  Season  Event  \\\n",
       "0         145   14   12  2018          Friday      0  Autumn      1   \n",
       "1         144   15   12  2018        Saturday      0  Autumn      1   \n",
       "2         131   17   12  2018          Monday      0  Autumn      1   \n",
       "3         355   18   12  2018         Tuesday      0  Autumn      1   \n",
       "4        1267   20   12  2018        Thursday      0  Autumn      1   \n",
       "\n",
       "   Total Turistas  \n",
       "0    15657.580645  \n",
       "1    15657.580645  \n",
       "2    15657.580645  \n",
       "3    15657.580645  \n",
       "4    15657.580645  "
      ]
     },
     "execution_count": 623,
     "metadata": {},
     "output_type": "execute_result"
    }
   ],
   "source": [
    "store_data = pd.read_csv(\"store_data_final_final.csv\")\n",
    "store_data.head()"
   ]
  },
  {
   "cell_type": "code",
   "execution_count": 624,
   "metadata": {},
   "outputs": [
    {
     "data": {
      "text/plain": [
       "Visitantes           int64\n",
       "Dia                  int64\n",
       "Mes                  int64\n",
       "Ano                  int64\n",
       "Day of the week     object\n",
       "COVID                int64\n",
       "Season              object\n",
       "Event                int64\n",
       "Total Turistas     float64\n",
       "dtype: object"
      ]
     },
     "execution_count": 624,
     "metadata": {},
     "output_type": "execute_result"
    }
   ],
   "source": [
    "store_data.dtypes"
   ]
  },
  {
   "cell_type": "code",
   "execution_count": 625,
   "metadata": {},
   "outputs": [],
   "source": [
    "#now we create a new variable to store our df\n",
    "#we gonna convert the column day of the week changing the day name to number to help with further analysis"
   ]
  },
  {
   "cell_type": "code",
   "execution_count": 626,
   "metadata": {},
   "outputs": [],
   "source": [
    "store = store_data"
   ]
  },
  {
   "cell_type": "code",
   "execution_count": 627,
   "metadata": {},
   "outputs": [],
   "source": [
    "def week_day_to_num(df):\n",
    "    if df[\"Day of the week\"] == \"Sunday\":\n",
    "        return 1\n",
    "    if df[\"Day of the week\"] == \"Monday\":\n",
    "        return 2\n",
    "    if df[\"Day of the week\"] == \"Tuesday\":\n",
    "        return 3\n",
    "    if df[\"Day of the week\"] == \"Wednesday\":\n",
    "        return 4\n",
    "    if df[\"Day of the week\"] == \"Thursday\":\n",
    "        return 5\n",
    "    if df[\"Day of the week\"] == \"Friday\":\n",
    "        return 6\n",
    "    if df[\"Day of the week\"] == \"Saturday\":\n",
    "        return 7"
   ]
  },
  {
   "cell_type": "code",
   "execution_count": 628,
   "metadata": {},
   "outputs": [
    {
     "data": {
      "text/html": [
       "<div>\n",
       "<style scoped>\n",
       "    .dataframe tbody tr th:only-of-type {\n",
       "        vertical-align: middle;\n",
       "    }\n",
       "\n",
       "    .dataframe tbody tr th {\n",
       "        vertical-align: top;\n",
       "    }\n",
       "\n",
       "    .dataframe thead th {\n",
       "        text-align: right;\n",
       "    }\n",
       "</style>\n",
       "<table border=\"1\" class=\"dataframe\">\n",
       "  <thead>\n",
       "    <tr style=\"text-align: right;\">\n",
       "      <th></th>\n",
       "      <th>Visitantes</th>\n",
       "      <th>Dia</th>\n",
       "      <th>Mes</th>\n",
       "      <th>Ano</th>\n",
       "      <th>Day of the week</th>\n",
       "      <th>COVID</th>\n",
       "      <th>Season</th>\n",
       "      <th>Event</th>\n",
       "      <th>Total Turistas</th>\n",
       "    </tr>\n",
       "  </thead>\n",
       "  <tbody>\n",
       "    <tr>\n",
       "      <th>0</th>\n",
       "      <td>145</td>\n",
       "      <td>14</td>\n",
       "      <td>12</td>\n",
       "      <td>2018</td>\n",
       "      <td>Friday</td>\n",
       "      <td>0</td>\n",
       "      <td>Autumn</td>\n",
       "      <td>1</td>\n",
       "      <td>15657.580645</td>\n",
       "    </tr>\n",
       "    <tr>\n",
       "      <th>1</th>\n",
       "      <td>144</td>\n",
       "      <td>15</td>\n",
       "      <td>12</td>\n",
       "      <td>2018</td>\n",
       "      <td>Saturday</td>\n",
       "      <td>0</td>\n",
       "      <td>Autumn</td>\n",
       "      <td>1</td>\n",
       "      <td>15657.580645</td>\n",
       "    </tr>\n",
       "    <tr>\n",
       "      <th>2</th>\n",
       "      <td>131</td>\n",
       "      <td>17</td>\n",
       "      <td>12</td>\n",
       "      <td>2018</td>\n",
       "      <td>Monday</td>\n",
       "      <td>0</td>\n",
       "      <td>Autumn</td>\n",
       "      <td>1</td>\n",
       "      <td>15657.580645</td>\n",
       "    </tr>\n",
       "    <tr>\n",
       "      <th>3</th>\n",
       "      <td>355</td>\n",
       "      <td>18</td>\n",
       "      <td>12</td>\n",
       "      <td>2018</td>\n",
       "      <td>Tuesday</td>\n",
       "      <td>0</td>\n",
       "      <td>Autumn</td>\n",
       "      <td>1</td>\n",
       "      <td>15657.580645</td>\n",
       "    </tr>\n",
       "    <tr>\n",
       "      <th>4</th>\n",
       "      <td>1267</td>\n",
       "      <td>20</td>\n",
       "      <td>12</td>\n",
       "      <td>2018</td>\n",
       "      <td>Thursday</td>\n",
       "      <td>0</td>\n",
       "      <td>Autumn</td>\n",
       "      <td>1</td>\n",
       "      <td>15657.580645</td>\n",
       "    </tr>\n",
       "  </tbody>\n",
       "</table>\n",
       "</div>"
      ],
      "text/plain": [
       "   Visitantes  Dia  Mes   Ano Day of the week  COVID  Season  Event  \\\n",
       "0         145   14   12  2018          Friday      0  Autumn      1   \n",
       "1         144   15   12  2018        Saturday      0  Autumn      1   \n",
       "2         131   17   12  2018          Monday      0  Autumn      1   \n",
       "3         355   18   12  2018         Tuesday      0  Autumn      1   \n",
       "4        1267   20   12  2018        Thursday      0  Autumn      1   \n",
       "\n",
       "   Total Turistas  \n",
       "0    15657.580645  \n",
       "1    15657.580645  \n",
       "2    15657.580645  \n",
       "3    15657.580645  \n",
       "4    15657.580645  "
      ]
     },
     "execution_count": 628,
     "metadata": {},
     "output_type": "execute_result"
    }
   ],
   "source": [
    "store.head()"
   ]
  },
  {
   "cell_type": "code",
   "execution_count": 629,
   "metadata": {},
   "outputs": [
    {
     "data": {
      "text/html": [
       "<div>\n",
       "<style scoped>\n",
       "    .dataframe tbody tr th:only-of-type {\n",
       "        vertical-align: middle;\n",
       "    }\n",
       "\n",
       "    .dataframe tbody tr th {\n",
       "        vertical-align: top;\n",
       "    }\n",
       "\n",
       "    .dataframe thead th {\n",
       "        text-align: right;\n",
       "    }\n",
       "</style>\n",
       "<table border=\"1\" class=\"dataframe\">\n",
       "  <thead>\n",
       "    <tr style=\"text-align: right;\">\n",
       "      <th></th>\n",
       "      <th>Visitantes</th>\n",
       "      <th>Dia</th>\n",
       "      <th>Mes</th>\n",
       "      <th>Ano</th>\n",
       "      <th>Day of the week</th>\n",
       "      <th>COVID</th>\n",
       "      <th>Season</th>\n",
       "      <th>Event</th>\n",
       "      <th>Total Turistas</th>\n",
       "      <th>Week day</th>\n",
       "    </tr>\n",
       "  </thead>\n",
       "  <tbody>\n",
       "    <tr>\n",
       "      <th>0</th>\n",
       "      <td>145</td>\n",
       "      <td>14</td>\n",
       "      <td>12</td>\n",
       "      <td>2018</td>\n",
       "      <td>Friday</td>\n",
       "      <td>0</td>\n",
       "      <td>Autumn</td>\n",
       "      <td>1</td>\n",
       "      <td>15657.580645</td>\n",
       "      <td>6</td>\n",
       "    </tr>\n",
       "    <tr>\n",
       "      <th>1</th>\n",
       "      <td>144</td>\n",
       "      <td>15</td>\n",
       "      <td>12</td>\n",
       "      <td>2018</td>\n",
       "      <td>Saturday</td>\n",
       "      <td>0</td>\n",
       "      <td>Autumn</td>\n",
       "      <td>1</td>\n",
       "      <td>15657.580645</td>\n",
       "      <td>7</td>\n",
       "    </tr>\n",
       "    <tr>\n",
       "      <th>2</th>\n",
       "      <td>131</td>\n",
       "      <td>17</td>\n",
       "      <td>12</td>\n",
       "      <td>2018</td>\n",
       "      <td>Monday</td>\n",
       "      <td>0</td>\n",
       "      <td>Autumn</td>\n",
       "      <td>1</td>\n",
       "      <td>15657.580645</td>\n",
       "      <td>2</td>\n",
       "    </tr>\n",
       "    <tr>\n",
       "      <th>3</th>\n",
       "      <td>355</td>\n",
       "      <td>18</td>\n",
       "      <td>12</td>\n",
       "      <td>2018</td>\n",
       "      <td>Tuesday</td>\n",
       "      <td>0</td>\n",
       "      <td>Autumn</td>\n",
       "      <td>1</td>\n",
       "      <td>15657.580645</td>\n",
       "      <td>3</td>\n",
       "    </tr>\n",
       "    <tr>\n",
       "      <th>4</th>\n",
       "      <td>1267</td>\n",
       "      <td>20</td>\n",
       "      <td>12</td>\n",
       "      <td>2018</td>\n",
       "      <td>Thursday</td>\n",
       "      <td>0</td>\n",
       "      <td>Autumn</td>\n",
       "      <td>1</td>\n",
       "      <td>15657.580645</td>\n",
       "      <td>5</td>\n",
       "    </tr>\n",
       "  </tbody>\n",
       "</table>\n",
       "</div>"
      ],
      "text/plain": [
       "   Visitantes  Dia  Mes   Ano Day of the week  COVID  Season  Event  \\\n",
       "0         145   14   12  2018          Friday      0  Autumn      1   \n",
       "1         144   15   12  2018        Saturday      0  Autumn      1   \n",
       "2         131   17   12  2018          Monday      0  Autumn      1   \n",
       "3         355   18   12  2018         Tuesday      0  Autumn      1   \n",
       "4        1267   20   12  2018        Thursday      0  Autumn      1   \n",
       "\n",
       "   Total Turistas  Week day  \n",
       "0    15657.580645         6  \n",
       "1    15657.580645         7  \n",
       "2    15657.580645         2  \n",
       "3    15657.580645         3  \n",
       "4    15657.580645         5  "
      ]
     },
     "execution_count": 629,
     "metadata": {},
     "output_type": "execute_result"
    }
   ],
   "source": [
    "store[\"Week day\"] = store.apply(week_day_to_num,axis=1)\n",
    "store.head()"
   ]
  },
  {
   "cell_type": "code",
   "execution_count": 630,
   "metadata": {},
   "outputs": [
    {
     "data": {
      "text/html": [
       "<div>\n",
       "<style scoped>\n",
       "    .dataframe tbody tr th:only-of-type {\n",
       "        vertical-align: middle;\n",
       "    }\n",
       "\n",
       "    .dataframe tbody tr th {\n",
       "        vertical-align: top;\n",
       "    }\n",
       "\n",
       "    .dataframe thead th {\n",
       "        text-align: right;\n",
       "    }\n",
       "</style>\n",
       "<table border=\"1\" class=\"dataframe\">\n",
       "  <thead>\n",
       "    <tr style=\"text-align: right;\">\n",
       "      <th></th>\n",
       "      <th>Visitantes</th>\n",
       "      <th>Dia</th>\n",
       "      <th>Mes</th>\n",
       "      <th>Ano</th>\n",
       "      <th>Day of the week</th>\n",
       "      <th>COVID</th>\n",
       "      <th>Event</th>\n",
       "      <th>Total Turistas</th>\n",
       "      <th>Week day</th>\n",
       "      <th>Season_Autumn</th>\n",
       "      <th>Season_Spring</th>\n",
       "      <th>Season_Summer</th>\n",
       "      <th>Season_Winter</th>\n",
       "    </tr>\n",
       "  </thead>\n",
       "  <tbody>\n",
       "    <tr>\n",
       "      <th>0</th>\n",
       "      <td>145</td>\n",
       "      <td>14</td>\n",
       "      <td>12</td>\n",
       "      <td>2018</td>\n",
       "      <td>Friday</td>\n",
       "      <td>0</td>\n",
       "      <td>1</td>\n",
       "      <td>15657.580645</td>\n",
       "      <td>6</td>\n",
       "      <td>1</td>\n",
       "      <td>0</td>\n",
       "      <td>0</td>\n",
       "      <td>0</td>\n",
       "    </tr>\n",
       "    <tr>\n",
       "      <th>1</th>\n",
       "      <td>144</td>\n",
       "      <td>15</td>\n",
       "      <td>12</td>\n",
       "      <td>2018</td>\n",
       "      <td>Saturday</td>\n",
       "      <td>0</td>\n",
       "      <td>1</td>\n",
       "      <td>15657.580645</td>\n",
       "      <td>7</td>\n",
       "      <td>1</td>\n",
       "      <td>0</td>\n",
       "      <td>0</td>\n",
       "      <td>0</td>\n",
       "    </tr>\n",
       "    <tr>\n",
       "      <th>2</th>\n",
       "      <td>131</td>\n",
       "      <td>17</td>\n",
       "      <td>12</td>\n",
       "      <td>2018</td>\n",
       "      <td>Monday</td>\n",
       "      <td>0</td>\n",
       "      <td>1</td>\n",
       "      <td>15657.580645</td>\n",
       "      <td>2</td>\n",
       "      <td>1</td>\n",
       "      <td>0</td>\n",
       "      <td>0</td>\n",
       "      <td>0</td>\n",
       "    </tr>\n",
       "    <tr>\n",
       "      <th>3</th>\n",
       "      <td>355</td>\n",
       "      <td>18</td>\n",
       "      <td>12</td>\n",
       "      <td>2018</td>\n",
       "      <td>Tuesday</td>\n",
       "      <td>0</td>\n",
       "      <td>1</td>\n",
       "      <td>15657.580645</td>\n",
       "      <td>3</td>\n",
       "      <td>1</td>\n",
       "      <td>0</td>\n",
       "      <td>0</td>\n",
       "      <td>0</td>\n",
       "    </tr>\n",
       "    <tr>\n",
       "      <th>4</th>\n",
       "      <td>1267</td>\n",
       "      <td>20</td>\n",
       "      <td>12</td>\n",
       "      <td>2018</td>\n",
       "      <td>Thursday</td>\n",
       "      <td>0</td>\n",
       "      <td>1</td>\n",
       "      <td>15657.580645</td>\n",
       "      <td>5</td>\n",
       "      <td>1</td>\n",
       "      <td>0</td>\n",
       "      <td>0</td>\n",
       "      <td>0</td>\n",
       "    </tr>\n",
       "  </tbody>\n",
       "</table>\n",
       "</div>"
      ],
      "text/plain": [
       "   Visitantes  Dia  Mes   Ano Day of the week  COVID  Event  Total Turistas  \\\n",
       "0         145   14   12  2018          Friday      0      1    15657.580645   \n",
       "1         144   15   12  2018        Saturday      0      1    15657.580645   \n",
       "2         131   17   12  2018          Monday      0      1    15657.580645   \n",
       "3         355   18   12  2018         Tuesday      0      1    15657.580645   \n",
       "4        1267   20   12  2018        Thursday      0      1    15657.580645   \n",
       "\n",
       "   Week day  Season_Autumn  Season_Spring  Season_Summer  Season_Winter  \n",
       "0         6              1              0              0              0  \n",
       "1         7              1              0              0              0  \n",
       "2         2              1              0              0              0  \n",
       "3         3              1              0              0              0  \n",
       "4         5              1              0              0              0  "
      ]
     },
     "execution_count": 630,
     "metadata": {},
     "output_type": "execute_result"
    }
   ],
   "source": [
    "store = pd.get_dummies(store,columns=[\"Season\"])\n",
    "store.head()"
   ]
  },
  {
   "cell_type": "code",
   "execution_count": 631,
   "metadata": {},
   "outputs": [
    {
     "name": "stderr",
     "output_type": "stream",
     "text": [
      "C:\\Users\\betti\\AppData\\Local\\Temp\\ipykernel_13172\\3900052727.py:4: DeprecationWarning: `np.bool` is a deprecated alias for the builtin `bool`. To silence this warning, use `bool` by itself. Doing this will not modify any behavior and is safe. If you specifically wanted the numpy scalar type, use `np.bool_` here.\n",
      "Deprecated in NumPy 1.20; for more details and guidance: https://numpy.org/devdocs/release/1.20.0-notes.html#deprecations\n",
      "  mask = np.zeros_like(corr, dtype=np.bool)\n"
     ]
    },
    {
     "data": {
      "image/png": "[encoded data removed]",
      "text/plain": [
       "<Figure size 1400x1400 with 2 Axes>"
      ]
     },
     "metadata": {},
     "output_type": "display_data"
    }
   ],
   "source": [
    "#Time for visuals\n",
    "\n",
    "corr=np.abs(store.corr())\n",
    "mask = np.zeros_like(corr, dtype=np.bool)\n",
    "mask[np.triu_indices_from(mask)] = True\n",
    "f, ax = plt.subplots(figsize=(14, 14))\n",
    "cmap = sn.diverging_palette(220, 10, as_cmap=True)\n",
    "sn.heatmap(corr, mask=mask,  vmax=1,square=True, linewidths=.5, cbar_kws={\"shrink\": .5},annot = corr)\n",
    "plt.show()"
   ]
  },
  {
   "cell_type": "code",
   "execution_count": 632,
   "metadata": {},
   "outputs": [],
   "source": [
    "#Now that we got our heatmap, we gotta fix our data types before we start analyzing\n",
    "#we need to do that so when training the algorithm, our pc doesnt think day 4 is double of 2 and etc\n",
    "store = store.astype({\"Ano\":str, \"Mes\": str, \"Dia\": str,\"Week day\":str})\n",
    "\n",
    "#we also drop the year column since it was messing up with our last predictions\n",
    "\n",
    "store.drop([\"Ano\",\"Day of the week\"],axis=1,inplace=True)"
   ]
  },
  {
   "cell_type": "code",
   "execution_count": 633,
   "metadata": {},
   "outputs": [
    {
     "data": {
      "text/plain": [
       "Visitantes          int64\n",
       "Dia                object\n",
       "Mes                object\n",
       "COVID               int64\n",
       "Event               int64\n",
       "Total Turistas    float64\n",
       "Week day           object\n",
       "Season_Autumn       uint8\n",
       "Season_Spring       uint8\n",
       "Season_Summer       uint8\n",
       "Season_Winter       uint8\n",
       "dtype: object"
      ]
     },
     "execution_count": 633,
     "metadata": {},
     "output_type": "execute_result"
    }
   ],
   "source": [
    "store.dtypes"
   ]
  },
  {
   "cell_type": "code",
   "execution_count": 634,
   "metadata": {},
   "outputs": [],
   "source": [
    "#Let's find some outliers \n",
    "\n",
    "Q1 = store[\"Visitantes\"].quantile(0.25)\n",
    "Q3 = store[\"Visitantes\"].quantile(0.75)\n",
    "\n",
    "IQR = Q3-Q1\n",
    "\n",
    "store = store[~((store_data[\"Visitantes\"] < (Q1 - 1.5 * IQR)) | (store[\"Visitantes\"] > (Q3 + 1.5 * IQR)))]"
   ]
  },
  {
   "cell_type": "code",
   "execution_count": 635,
   "metadata": {},
   "outputs": [
    {
     "name": "stdout",
     "output_type": "stream",
     "text": [
      "Visitantes        13\n",
      "Dia               13\n",
      "Mes               13\n",
      "COVID             13\n",
      "Event             13\n",
      "Total Turistas    13\n",
      "Week day          13\n",
      "Season_Autumn     13\n",
      "Season_Spring     13\n",
      "Season_Summer     13\n",
      "Season_Winter     13\n",
      "dtype: int64\n",
      "Visitantes        35\n",
      "Dia               35\n",
      "Mes               35\n",
      "COVID             35\n",
      "Event             35\n",
      "Total Turistas    35\n",
      "Week day          35\n",
      "Season_Autumn     35\n",
      "Season_Spring     35\n",
      "Season_Summer     35\n",
      "Season_Winter     35\n",
      "dtype: int64\n"
     ]
    }
   ],
   "source": [
    "print(store[store[\"Visitantes\"]<50].count())\n",
    "print(store[store[\"Visitantes\"]>1500].count())"
   ]
  },
  {
   "cell_type": "code",
   "execution_count": 636,
   "metadata": {},
   "outputs": [],
   "source": [
    "#Still on outliers but a bit more manual now \n",
    "store = store[store[\"Visitantes\"]>10]\n",
    "\n",
    "store = store[store[\"Visitantes\"]<1000]"
   ]
  },
  {
   "cell_type": "code",
   "execution_count": 637,
   "metadata": {},
   "outputs": [],
   "source": [
    "#Prediction time, let's see if this got any better\n",
    "\n",
    "X =  store.drop(\"Visitantes\", axis=1)\n",
    "y = store[\"Visitantes\"]\n",
    "\n",
    "#split the data into training and test sets \n",
    "X_train, X_test, y_train, y_test = train_test_split(X,y, test_size=0.2)"
   ]
  },
  {
   "cell_type": "code",
   "execution_count": 638,
   "metadata": {},
   "outputs": [
    {
     "name": "stdout",
     "output_type": "stream",
     "text": [
      "Score:  0.8392983826781765\n",
      "Pred error:  100.86938944843243\n"
     ]
    }
   ],
   "source": [
    "rf = RandomForestRegressor()\n",
    "\n",
    "rf.fit(X_train,y_train)\n",
    "\n",
    "print(\"Score: \", rf.score(X_test,y_test))\n",
    "\n",
    "y_pred = rf.predict(X_test)\n",
    "mse = mean_squared_error(y_test,y_pred)\n",
    "error = np.sqrt(mse)\n",
    "\n",
    "print(\"Pred error: \", error)"
   ]
  },
  {
   "cell_type": "code",
   "execution_count": 639,
   "metadata": {},
   "outputs": [],
   "source": [
    "#joblib.dump(rf, 'store_rf_model.joblib') #we saved already"
   ]
  },
  {
   "cell_type": "code",
   "execution_count": 640,
   "metadata": {},
   "outputs": [],
   "source": [
    "#Let's now do a grid search\n",
    "\n",
    "# we need to define what we consider the \"full list\" of hyperparameters\n",
    "# Number of trees in random forest\n",
    "n_estimators = [500,700,900,1000]\n",
    "# Mximum number of total leaves to consider\n",
    "max_leaf_nodes = [15, 30, 40]\n",
    "# Maximum number of levels in each tree\n",
    "max_depth = [5,10]\n",
    "\n",
    "# Create the  grid\n",
    "# this is a dictionary from hyperparameters to potential values\n",
    "# the keys in this dictionary have to match the names of the hyperparameters in the documentation of the model\n",
    "grid = {'n_estimators': n_estimators,\n",
    "        'max_leaf_nodes': max_leaf_nodes,\n",
    "        'max_depth': max_depth}\n",
    "\n",
    "# Instantiate the grid search model object\n",
    "# estimator -> model to optimize\n",
    "forest = RandomForestRegressor()\n",
    "# param_grid -> state the dictionary of parameters to optimize\n",
    "# cv = 5 -> number of cross validation folds <------ CV is REALLY important in grid search. Why?\n",
    "grid_search = GridSearchCV(estimator = forest, param_grid = grid, cv = 5)"
   ]
  },
  {
   "cell_type": "code",
   "execution_count": 641,
   "metadata": {},
   "outputs": [
    {
     "name": "stdout",
     "output_type": "stream",
     "text": [
      "Best parameters:  {'max_depth': 10, 'max_leaf_nodes': 40, 'n_estimators': 700}\n",
      "Best cross-validation score:  0.8469289786170139\n"
     ]
    }
   ],
   "source": [
    "# Fit the grid search to the data\n",
    "grid_search.fit(X_train, y_train)\n",
    "\n",
    "print(\"Best parameters: \", grid_search.best_params_)\n",
    "print(\"Best cross-validation score: \", grid_search.best_score_)"
   ]
  },
  {
   "cell_type": "code",
   "execution_count": 647,
   "metadata": {},
   "outputs": [
    {
     "name": "stdout",
     "output_type": "stream",
     "text": [
      "Score:  0.8132367108347431\n",
      "Pred error:  108.7414263354268\n"
     ]
    }
   ],
   "source": [
    "#Now let's use the parameters we found:\n",
    "\n",
    "rf = RandomForestRegressor(max_depth= 10, max_leaf_nodes= 40, n_estimators= 700)\n",
    "\n",
    "rf.fit(X_train,y_train)\n",
    "\n",
    "print(\"Score: \", rf.score(X_test,y_test))\n",
    "\n",
    "y_pred = rf.predict(X_test)\n",
    "mse = mean_squared_error(y_test,y_pred)\n",
    "error = np.sqrt(mse)\n",
    "\n",
    "print(\"Pred error: \", error)\n",
    "\n",
    "#joblib.dump(rf, 'store_rf_wparam_model.joblib') #we saved already"
   ]
  }
 ],
 "metadata": {
  "kernelspec": {
   "display_name": "base",
   "language": "python",
   "name": "python3"
  },
  "language_info": {
   "codemirror_mode": {
    "name": "ipython",
    "version": 3
   },
   "file_extension": ".py",
   "mimetype": "text/x-python",
   "name": "python",
   "nbconvert_exporter": "python",
   "pygments_lexer": "ipython3",
   "version": "3.9.13"
  },
  "orig_nbformat": 4
 },
 "nbformat": 4,
 "nbformat_minor": 2
}
